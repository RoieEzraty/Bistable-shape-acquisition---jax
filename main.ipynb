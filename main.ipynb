{
 "cells": [
  {
   "cell_type": "code",
   "execution_count": null,
   "id": "9038e380",
   "metadata": {},
   "outputs": [],
   "source": [
    "import numpy as np\n",
    "import equinox as eqx\n",
    "import jax\n",
    "import jax.numpy as jnp\n",
    "import matplotlib.pyplot as plt\n",
    "import importlib\n",
    "import numpy as np\n",
    "from jax import grad, jit, vmap\n",
    "from jax.experimental.ode import odeint\n",
    "from IPython.display import HTML\n",
    "\n",
    "\n",
    "from typing import TYPE_CHECKING, Callable, Union, Optional\n",
    "\n",
    "from VariablesClass import VariablesClass\n",
    "from StructureClass import  StructureClass\n",
    "from StateClass import StateClass\n",
    "from EquilibriumClass import EquilibriumClass\n",
    "\n",
    "import plot_funcs, colors, dynamics, helpers_builders"
   ]
  },
  {
   "cell_type": "code",
   "execution_count": null,
   "id": "a7baf896",
   "metadata": {},
   "outputs": [],
   "source": [
    "## Params\n",
    "\n",
    "H, S = 5, 1  # # Hinges, # Shims per hinge\n",
    "k_type = 'Experimental'\n",
    "\n",
    "# --- parameters / variables ---\n",
    "if k_type == 'Numerical':\n",
    "    k_soft  = jnp.ones((H, S), dtype=jnp.float32) * 1.0  # (Hinges, Shims) spring stiffnesses in soft direction, per shim\n",
    "    k_stiff = jnp.ones((H, S), dtype=jnp.float32) * 4.0  # (Hinges, Shims) spring stiffnesses in stiff direction, per shim\n",
    "    thetas_ss = jnp.full((H, S), 1/6, dtype=jnp.float32)  # (Hinges, Shims) rest angles per shim\n",
    "    thresh = jnp.full((H, S), 1/4, dtype=jnp.float32)  # (Hinges, Shims) rest angles per shim\n",
    "    file_name = None\n",
    "else:\n",
    "    k_soft  = None\n",
    "    k_stiff = None\n",
    "    thetas_ss = jnp.full((H, S), 1.03312, dtype=jnp.float32)  # (Hinges, Shims) rest angles per shim\n",
    "    thresh = jnp.full((H, S), 1.96257, dtype=jnp.float32)  # (Hinges, Shims) rest angles per shim\n",
    "    file_name = 'Roee_offset3mm_dl75.txt'\n",
    "buckle  = jnp.ones((H, S), dtype=jnp.int32)  # initial cubkle state, per shim\n",
    "# rows = jnp.array([0, 2, 4])\n",
    "# cols = jnp.array([0, 0, 0])     # for example, first shim of each row\n",
    "# buckle = buckle.at[rows, cols].set(-1)\n",
    "\n",
    "key = jax.random.PRNGKey(169)   # seed\n",
    "desired_buckle = jax.random.randint(key, (H, S), minval=-1, maxval=2)  # note: maxval is exclusive\n",
    "desired_buckle = desired_buckle.at[desired_buckle==0].set(-1)\n",
    "\n",
    "k_stretch_ratio = 1e2\n",
    "\n",
    "T = 16  # total training set time (not time to reach equilibrium during every step)\n",
    "\n",
    "alpha = 0.012  # learning rate"
   ]
  },
  {
   "cell_type": "code",
   "execution_count": null,
   "id": "4e02bb26",
   "metadata": {},
   "outputs": [],
   "source": [
    "buckle"
   ]
  },
  {
   "cell_type": "code",
   "execution_count": null,
   "id": "945c277a",
   "metadata": {},
   "outputs": [],
   "source": [
    "import StructureClass\n",
    "importlib.reload(StructureClass)\n",
    "from StructureClass import StructureClass\n",
    "\n",
    "# --- build geometry (all topology stays in StructureClass) ---\n",
    "Strctr = StructureClass(hinges=H, shims=S, L=1)  # your StructureClass from earlier\n",
    "# Strctr.build_dataset"
   ]
  },
  {
   "cell_type": "code",
   "execution_count": null,
   "id": "2e5f051a",
   "metadata": {},
   "outputs": [],
   "source": [
    "import VariablesClass\n",
    "importlib.reload(VariablesClass)\n",
    "from VariablesClass import VariablesClass\n",
    "\n",
    "# --- Initiate variables ---\n",
    "Variabs = VariablesClass(Strctr,\n",
    "                         k_type = k_type,\n",
    "                         k_soft=k_soft,\n",
    "                         k_stiff=k_stiff,\n",
    "                         thetas_ss=thetas_ss,           # rest/target angles\n",
    "                         thresh=thresh,                 # threshold to buckle shims\n",
    "                         stretch_scale=k_stretch_ratio,            # k_stretch = 50 * max(k_stiff)\n",
    "                         file_name = file_name\n",
    "                         )"
   ]
  },
  {
   "cell_type": "code",
   "execution_count": null,
   "id": "be5f99c5",
   "metadata": {},
   "outputs": [],
   "source": [
    "import SupervisorClass\n",
    "importlib.reload(SupervisorClass)\n",
    "from SupervisorClass import SupervisorClass\n",
    "\n",
    "Sprvsr = SupervisorClass(Strctr, alpha, T, desired_buckle)\n",
    "Sprvsr.create_dataset(Strctr, sampling='Uniform')\n",
    "print('tip positions=', Sprvsr.tip_pos_in_t)\n",
    "print('desired buckle=', Sprvsr.desired_buckle_arr)"
   ]
  },
  {
   "cell_type": "markdown",
   "id": "959892c0",
   "metadata": {},
   "source": [
    "## Desired values"
   ]
  },
  {
   "cell_type": "code",
   "execution_count": null,
   "id": "4604b103",
   "metadata": {},
   "outputs": [],
   "source": [
    "import StateClass\n",
    "importlib.reload(StateClass)\n",
    "from StateClass import StateClass\n",
    "\n",
    "# --- state (straight chain, unit spacing => rest lengths = 1) ---\n",
    "State_meas = StateClass(Variabs, Strctr, Sprvsr, buckle_arr = buckle)  # buckle defaults to +1"
   ]
  },
  {
   "cell_type": "markdown",
   "id": "5c5d952f",
   "metadata": {},
   "source": [
    "## Leave tip"
   ]
  },
  {
   "cell_type": "code",
   "execution_count": null,
   "id": "53de15c4",
   "metadata": {},
   "outputs": [],
   "source": [
    "tip_loc = None\n",
    "\n",
    "# --- state (straight chain, unit spacing => rest lengths = 1) ---\n",
    "State_notip = StateClass(Variabs, Strctr, Sprvsr, buckle_arr = buckle)  # buckle defaults to +1\n",
    "print('State_notip buckle', State_notip.buckle_arr)\n",
    "\n",
    "\n",
    "# --- initialize, no tip movement yet\n",
    "Eq_notip = EquilibriumClass(Strctr, buckle)\n",
    "final_pos, pos_in_t, vel_in_t, potential_force_in_t = Eq_notip.calculate_state(Variabs, Strctr, tip_pos=None)\n",
    "State_notip._save_data(0, Strctr, final_pos, State_meas.buckle_arr, compute_thetas_if_missing=True)\n",
    "print('State_notip buckle', State_notip.buckle_arr)\n",
    "plot_funcs.plot_arm(State_notip.pos_arr , State_notip.buckle_arr, np.rad2deg(State_notip.theta_arr), Strctr.L,\n",
    "                    modality=\"measurement\")"
   ]
  },
  {
   "cell_type": "code",
   "execution_count": null,
   "id": "27419306",
   "metadata": {},
   "outputs": [],
   "source": [
    "fig, anim = plot_funcs.animate_arm(pos_in_t, Strctr.L, interval_ms=20, save_path=f\"arm_animation_t{0}.gif\", fps=4,\n",
    "                                   stride=4)\n",
    "\n",
    "# Show inline animation (uses JavaScript/HTML5)\n",
    "HTML(anim.to_jshtml())\n"
   ]
  },
  {
   "cell_type": "code",
   "execution_count": null,
   "id": "76460aea",
   "metadata": {},
   "outputs": [],
   "source": [
    "import EquilibriumClass\n",
    "importlib.reload(EquilibriumClass)\n",
    "from EquilibriumClass import EquilibriumClass\n",
    "\n",
    "for i, tip_pos in enumerate(Sprvsr.tip_pos_in_t):    \n",
    "    \n",
    "    if i == 0:\n",
    "        Eq_des = EquilibriumClass(Strctr, Sprvsr.desired_buckle_arr)\n",
    "    else:\n",
    "        Eq_des = EquilibriumClass(Strctr, Sprvsr.desired_buckle_arr, final_pos)\n",
    "    final_pos, pos_in_t, vel_in_t, potential_force_evolution = Eq_des.calculate_state(Variabs, Strctr, tip_pos=tip_pos)\n",
    "    \n",
    "    Sprvsr.set_desired(final_pos, potential_force_evolution[-1][-2], potential_force_evolution[-1][-1], i)\n",
    "\n",
    "State_meas._save_data(0, Strctr, State_meas.pos_arr, State_meas.buckle_arr, compute_thetas_if_missing=True)\n",
    "print('pre training configuration')\n",
    "plot_funcs.plot_arm(State_meas.pos_arr , State_meas.buckle_arr, np.rad2deg(State_meas.theta_arr),Strctr.L,\n",
    "                    modality='measurement')"
   ]
  },
  {
   "cell_type": "markdown",
   "id": "24ad4165",
   "metadata": {},
   "source": [
    "## Training"
   ]
  },
  {
   "cell_type": "code",
   "execution_count": null,
   "id": "04be13a2",
   "metadata": {},
   "outputs": [],
   "source": [
    "# --- state (straight chain, unit spacing => rest lengths = 1) ---\n",
    "State_meas = StateClass(Variabs, Strctr, Sprvsr, buckle_arr = buckle)  # buckle defaults to +1\n",
    "State_update = StateClass(Variabs, Strctr, Sprvsr, buckle_arr = buckle)  # buckle defaults to +1\n",
    "\n",
    "# --- initialize, no tip movement yet\n",
    "Eq = EquilibriumClass(Strctr, State_meas.buckle_arr, State_meas.pos_arr)\n",
    "\n",
    "State_meas._save_data(0, Strctr, State_meas.pos_arr, State_meas.buckle_arr, compute_thetas_if_missing=True)\n",
    "print('pre training configuration')\n",
    "plot_funcs.plot_arm(State_meas.pos_arr , State_meas.buckle_arr, np.rad2deg(State_meas.theta_arr), Strctr.L,\n",
    "                    modality=\"measurement\")"
   ]
  },
  {
   "cell_type": "code",
   "execution_count": null,
   "id": "90fb1185",
   "metadata": {
    "scrolled": true
   },
   "outputs": [],
   "source": [
    "import SupervisorClass\n",
    "importlib.reload(SupervisorClass)\n",
    "from SupervisorClass import SupervisorClass\n",
    "\n",
    "importlib.reload(plot_funcs)\n",
    "\n",
    "for t in range(Sprvsr.T):\n",
    "    print('t=', t)   \n",
    "    \n",
    "    ## MEASUREMENT\n",
    "    \n",
    "    # --- position tip ---\n",
    "    State_meas.position_tip(Sprvsr, t)\n",
    "    \n",
    "    # --- equilibrium ---\n",
    "    final_pos, pos_in_t, vel_in_t, potential_force_in_t = Eq.calculate_state(Variabs, Strctr, tip_pos=State_meas.tip_pos)\n",
    "    print('normal force on tip', potential_force_in_t[-1][-2])\n",
    "#     edge_lengths = vmap(lambda e: Strctr._get_edge_length(final_pos, e))(jnp.arange(Strctr.edges))\n",
    "#     print('edge lengths', helpers_builders.numpify(edge_lengths))\n",
    "\n",
    "    # --- save sizes and plot ---\n",
    "    State_meas._save_data(t, Strctr, final_pos, State_meas.buckle_arr, potential_force_in_t, compute_thetas_if_missing=True)\n",
    "    plot_funcs.plot_arm(final_pos, State_meas.buckle_arr, np.rad2deg(State_meas.theta_arr), Strctr.L,\n",
    "                        modality = \"measurement\")\n",
    "    print('pre buckle', State_meas.buckle_arr)\n",
    "    print('energy', Eq.energy(Variabs, Strctr, final_pos)[-1])\n",
    "    \n",
    "    fig, anim = plot_funcs.animate_arm(pos_in_t, Strctr.L, interval_ms=20, save_path=f\"arm_animation_t{t}.gif\", fps=4,\n",
    "                                       stride=10)\n",
    "    \n",
    "    # --- loss ---\n",
    "    Sprvsr.calc_loss(State_meas.Fx, State_meas.Fy, t)\n",
    "    print('loss', Sprvsr.loss)\n",
    "    \n",
    "    ## UPDATE\n",
    "    \n",
    "    if t == 0:\n",
    "        Sprvsr.calc_update_tip(t, State_meas.Fx, State_meas.Fy, State_meas.tip_pos,\n",
    "                               prev_pos = np.array([Strctr.L*Strctr.edges, 0.1]))\n",
    "    else:\n",
    "        Sprvsr.calc_update_tip(t, State_meas.Fx, State_meas.Fy, State_meas.tip_pos)\n",
    "    print('update_tip', Sprvsr.tip_pos_update_in_t)\n",
    "    \n",
    "    # --- position tip ---\n",
    "    State_update.position_tip(Sprvsr, t, \"update\")\n",
    "    \n",
    "    # --- equilibrium ---\n",
    "    final_pos, pos_in_t, vel_in_t, potential_force_in_t = Eq.calculate_state(Variabs, Strctr, tip_pos=State_update.tip_pos)\n",
    "    print('normal force on tip', potential_force_in_t[-1][-2])\n",
    "\n",
    "    # --- save sizes and plot ---\n",
    "    State_update._save_data(t, Strctr, final_pos, State_update.buckle_arr, potential_force_evolution,\n",
    "                            compute_thetas_if_missing=True)\n",
    "    plot_funcs.plot_arm(final_pos, State_update.buckle_arr, np.rad2deg(State_update.theta_arr), Strctr.L, modality = \"update\")\n",
    "    print('pre buckle', State_update.buckle_arr)\n",
    "    print('energy', Eq.energy(Variabs, Strctr, final_pos)[-1])\n",
    "    \n",
    "    # --- shims buckle ---\n",
    "    State_update.buckle(Variabs, Strctr, t, State_measured = State_meas)\n",
    "    \n",
    "    Eq = EquilibriumClass(Strctr, helpers_builders.jaxify(State_update.buckle_arr),\n",
    "                          helpers_builders.jaxify(State_update.pos_arr))\n",
    "    print('post buckle', State_update.buckle_arr)\n",
    "    print('post buckle update', State_update.buckle_arr)\n",
    "    print('energy', Eq.energy(Variabs, Strctr, final_pos)[-1])\n",
    "    plot_funcs.plot_arm(final_pos, State_update.buckle_arr, np.rad2deg(State_update.theta_arr),\n",
    "                        Strctr.L, modality = \"update\")\n",
    "    "
   ]
  },
  {
   "cell_type": "code",
   "execution_count": null,
   "id": "acc62bfc",
   "metadata": {},
   "outputs": [],
   "source": [
    "plt.plot(np.sum(np.abs(Sprvsr.loss_in_t**2), axis=1))\n",
    "plt.xlabel('t')\n",
    "plt.ylabel('Loss')"
   ]
  },
  {
   "cell_type": "code",
   "execution_count": null,
   "id": "14684ed7",
   "metadata": {},
   "outputs": [],
   "source": [
    "plt.plot(State_update.buckle_in_t[0,0,:])\n",
    "plt.plot(State_update.buckle_in_t[1,0,:])\n",
    "plt.plot(State_update.buckle_in_t[2,0,:])\n",
    "plt.plot(State_update.buckle_in_t[3,0,:])\n",
    "plt.xlabel('t')\n",
    "plt.ylabel('buckle')\n",
    "plt.legend(['hinge 1', 'hinge 2', 'hinge 3', 'hinge 4'])"
   ]
  },
  {
   "cell_type": "code",
   "execution_count": null,
   "id": "57d44ec1",
   "metadata": {},
   "outputs": [],
   "source": [
    "fig, anim = plot_funcs.animate_arm(pos_in_t, Strctr.L, interval_ms=20, save_path=f\"arm_animation_t{t}.gif\", fps=4,\n",
    "                                   stride=10)\n",
    "\n",
    "# Show inline animation (uses JavaScript/HTML5)\n",
    "HTML(anim.to_jshtml())"
   ]
  },
  {
   "cell_type": "code",
   "execution_count": null,
   "id": "4da3aba0",
   "metadata": {},
   "outputs": [],
   "source": [
    "import numpy as np\n",
    "import jax.numpy as jnp\n",
    "\n",
    "def build_torque_stiffness_from_file(\n",
    "    path: str,\n",
    "    *,\n",
    "    angles_in_degrees: bool = True,\n",
    "    savgol_window: int = None,\n",
    ") -> tuple[jnp.ndarray, jnp.ndarray, jnp.ndarray, callable, callable]:\n",
    "    \"\"\"\n",
    "    Load (angle, torque) from text file and construct JAX-friendly interpolants.\n",
    "\n",
    "    Returns\n",
    "    -------\n",
    "    theta_grid : jnp.ndarray, shape (N,)\n",
    "        Sorted grid of angles (radians).\n",
    "    torque_grid : jnp.ndarray, shape (N,)\n",
    "        Torque samples on grid.\n",
    "    k_grid : jnp.ndarray, shape (N,)\n",
    "        Stiffness samples (numeric derivative of torque w.r.t. theta).\n",
    "    torque_of_theta : callable\n",
    "        JAX function theta -> torque (linear interpolation, clamped at ends).\n",
    "    k_of_theta : callable\n",
    "        JAX function theta -> stiffness (linear interpolation, clamped at ends).\n",
    "    \"\"\"\n",
    "    # --- load ---\n",
    "    data = np.loadtxt(path)                # shape (N, 2)\n",
    "    theta = data[:, 0]\n",
    "    tau   = data[:, 1]\n",
    "\n",
    "    # degrees -> radians if needed\n",
    "    if angles_in_degrees:\n",
    "        theta = np.deg2rad(theta)\n",
    "\n",
    "    # --- sort & unique (interp requires monotonic x) ---\n",
    "    order = np.argsort(theta)\n",
    "    theta = theta[order]\n",
    "    tau   = tau[order]\n",
    "    # collapse duplicates (if any)\n",
    "    theta_u, idx = np.unique(theta, return_index=True)\n",
    "    tau_u = tau[idx]\n",
    "\n",
    "    # --- numeric derivative: k = d(tau)/d(theta) ---\n",
    "    # central differences on nonuniform grid\n",
    "    # (np.gradient handles non-uniform spacing if you pass x)\n",
    "    k = np.gradient(tau_u, theta_u)\n",
    "\n",
    "    # optional light smoothing of k (pure NumPy, outside JAX)\n",
    "    if savgol_window is not None and savgol_window > 2 and savgol_window % 2 == 1:\n",
    "        try:\n",
    "            from scipy.signal import savgol_filter\n",
    "            k = savgol_filter(k, window_length=savgol_window, polyorder=4, mode=\"interp\")\n",
    "            print('smoothed your k')\n",
    "        except Exception:\n",
    "            print('SciPy isnt available, just skip smoothing')\n",
    "\n",
    "    # --- wrap as JAX arrays ---\n",
    "    theta_grid  = jnp.asarray(theta_u, dtype=jnp.float32)\n",
    "    torque_grid = jnp.asarray(tau_u,    dtype=jnp.float32)\n",
    "    k_grid      = jnp.asarray(k,        dtype=jnp.float32)\n",
    "\n",
    "    # --- clamped linear interpolators (JAX) ---\n",
    "    def _clamp(x, xmin, xmax):\n",
    "        return jnp.clip(x, xmin, xmax)\n",
    "\n",
    "    def torque_of_theta(theta_query: jnp.ndarray) -> jnp.ndarray:\n",
    "        th = _clamp(theta_query, theta_grid[0], theta_grid[-1])\n",
    "        return jnp.interp(th, theta_grid, torque_grid)\n",
    "\n",
    "    def k_of_theta(theta_query: jnp.ndarray) -> jnp.ndarray:\n",
    "        th = _clamp(theta_query, theta_grid[0], theta_grid[-1])\n",
    "        return jnp.interp(th, theta_grid, k_grid)\n",
    "\n",
    "    return theta_grid, torque_grid, k_grid, torque_of_theta, k_of_theta\n"
   ]
  },
  {
   "cell_type": "code",
   "execution_count": null,
   "id": "ded26e10",
   "metadata": {},
   "outputs": [],
   "source": [
    "theta_grid, torque_grid, k_grid, torque_of_theta, k_of_theta = build_torque_stiffness_from_file('Roee_offset3mm_dl75.txt',\n",
    "                                                                                                savgol_window = 9)"
   ]
  },
  {
   "cell_type": "code",
   "execution_count": null,
   "id": "56861306",
   "metadata": {},
   "outputs": [],
   "source": [
    "plt.plot(theta_grid, torque_grid)"
   ]
  },
  {
   "cell_type": "code",
   "execution_count": null,
   "id": "1cd8cb09",
   "metadata": {},
   "outputs": [],
   "source": [
    "lnspc = np.linspace(-0.9*np.pi,0.9*np.pi,200)\n",
    "plt.plot(lnspc, torque_of_theta(lnspc))\n",
    "plt.plot(lnspc, k_of_theta(lnspc))\n",
    "plt.ylim([-10, 2])"
   ]
  },
  {
   "cell_type": "code",
   "execution_count": null,
   "id": "6b377bec",
   "metadata": {},
   "outputs": [],
   "source": [
    "theta_grid[torque_grid==-0.00761004]"
   ]
  },
  {
   "cell_type": "code",
   "execution_count": null,
   "id": "22601555",
   "metadata": {},
   "outputs": [],
   "source": []
  }
 ],
 "metadata": {
  "kernelspec": {
   "display_name": "Python 3 (ipykernel)",
   "language": "python",
   "name": "python3"
  },
  "language_info": {
   "codemirror_mode": {
    "name": "ipython",
    "version": 3
   },
   "file_extension": ".py",
   "mimetype": "text/x-python",
   "name": "python",
   "nbconvert_exporter": "python",
   "pygments_lexer": "ipython3",
   "version": "3.9.13"
  }
 },
 "nbformat": 4,
 "nbformat_minor": 5
}
