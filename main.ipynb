{
 "cells": [
  {
   "cell_type": "code",
   "execution_count": null,
   "id": "9038e380",
   "metadata": {},
   "outputs": [],
   "source": [
    "import equinox as eqx\n",
    "import jax\n",
    "import jax.numpy as jnp\n",
    "import matplotlib.pyplot as plt\n",
    "import importlib\n",
    "import numpy as np\n",
    "from jax import grad, jit, vmap\n",
    "from jax.experimental.ode import odeint\n",
    "\n",
    "from typing import TYPE_CHECKING, Callable, Union, Optional\n",
    "\n",
    "from VariablesClass import VariablesClass\n",
    "from StructureClass import  StructureClass\n",
    "from StateClass import StateClass\n",
    "\n",
    "import plot_funcs, colors, dynamics"
   ]
  },
  {
   "cell_type": "code",
   "execution_count": null,
   "id": "630dae22",
   "metadata": {},
   "outputs": [],
   "source": [
    "## Params\n",
    "\n",
    "H, S = 5, 1  # # Hinges, # Shims per hinge\n",
    "\n",
    "# --- parameters / variables ---\n",
    "k_soft  = jnp.ones((H, S), dtype=jnp.float32) * 1.0\n",
    "k_stiff = jnp.ones((H, S), dtype=jnp.float32) * 4.0\n",
    "thetas_ss = jnp.full((H, S), -1/2, dtype=jnp.float32)  # 33° per hinge\n",
    "buckle  = jnp.ones((H, S), dtype=jnp.int32)"
   ]
  },
  {
   "cell_type": "code",
   "execution_count": null,
   "id": "0bc235cb",
   "metadata": {},
   "outputs": [],
   "source": [
    "import StructureClass\n",
    "importlib.reload(StructureClass)\n",
    "from StructureClass import StructureClass\n",
    "\n",
    "# --- build geometry (all topology stays in StructureClass) ---\n",
    "Strctr = StructureClass(hinges=H, shims=S, L=1)  # your StructureClass from earlier"
   ]
  },
  {
   "cell_type": "code",
   "execution_count": null,
   "id": "2e5f051a",
   "metadata": {},
   "outputs": [],
   "source": [
    "import VariablesClass\n",
    "importlib.reload(VariablesClass)\n",
    "from VariablesClass import VariablesClass\n",
    "\n",
    "\n",
    "# --- Initiate variables ---\n",
    "Variabs = VariablesClass(Strctr,\n",
    "    k_soft=k_soft,\n",
    "    k_stiff=k_stiff,\n",
    "    thetas_ss=thetas_ss,           # rest/target angles\n",
    "    stretch_scale=10.0,              # k_stretch = 50 * max(k_stiff)\n",
    ")"
   ]
  },
  {
   "cell_type": "code",
   "execution_count": null,
   "id": "12cc4878",
   "metadata": {},
   "outputs": [],
   "source": [
    "import StateClass\n",
    "importlib.reload(StateClass)\n",
    "from StateClass import StateClass\n",
    "\n",
    "# --- state (straight chain, unit spacing => rest lengths = 1) ---\n",
    "State = StateClass(Strctr, buckle)  # buckle defaults to +1"
   ]
  },
  {
   "cell_type": "code",
   "execution_count": null,
   "id": "d8e2f063",
   "metadata": {},
   "outputs": [],
   "source": [
    "# --- initial energy ---\n",
    "E_total, E_rot, E_stretch = State.energy(Variabs, Strctr, State.pos_arr)\n",
    "print(\"Total:\", float(E_total))\n",
    "print(\"Rotation:\", float(E_rot))\n",
    "print(\"Stretch:\", float(E_stretch))"
   ]
  },
  {
   "cell_type": "code",
   "execution_count": null,
   "id": "1f8b01c4",
   "metadata": {},
   "outputs": [],
   "source": [
    "importlib.reload(plot_funcs)\n",
    "\n",
    "# Suppose St.pos_arr has shape (7,2)\n",
    "plot_funcs.plot_arm(State.pos_arr, L=Strctr.L)"
   ]
  },
  {
   "cell_type": "code",
   "execution_count": null,
   "id": "efde9414",
   "metadata": {},
   "outputs": [],
   "source": [
    "final_pos, pos_in_t, vel_in_t, potential_force_evolution = State.calculate_state(Variabs, Strctr)"
   ]
  },
  {
   "cell_type": "code",
   "execution_count": null,
   "id": "426b98b5",
   "metadata": {},
   "outputs": [],
   "source": [
    "from IPython.display import HTML\n",
    "importlib.reload(plot_funcs)\n",
    "\n",
    "plot_funcs.plot_arm(final_pos, Strctr.L)\n",
    "\n",
    "fig, anim = plot_funcs.animate_arm(pos_in_t, Strctr.L, interval_ms=20, save_path=None, fps=1, stride=12)\n",
    "\n",
    "# Show inline animation (uses JavaScript/HTML5)\n",
    "HTML(anim.to_jshtml())"
   ]
  },
  {
   "cell_type": "code",
   "execution_count": null,
   "id": "45b67dc2",
   "metadata": {},
   "outputs": [],
   "source": [
    "# importlib.reload(dynamics)\n",
    "\n",
    "# n_coords = State.pos_arr.size                # = 2 * (H+2)\n",
    "\n",
    "# # Helper to map (node, component) -> flat DOF index\n",
    "# # component: 0 = x, 1 = y\n",
    "# def dof_idx(node: int, comp: int) -> int:\n",
    "#     return 2*node + comp\n",
    "\n",
    "# # -------- imposed displacement function ----------\n",
    "# # Must return a length-n_coords vector (flattened order) for any time t\n",
    "# def imposed_disp_values(t: float) -> jnp.ndarray:\n",
    "#     vals = jnp.zeros((n_coords,), dtype=State.pos_arr.dtype)\n",
    "#     # First node pinned at (0,0) → both DOFs are zero; nothing else imposed.\n",
    "#     # If you ever want a moving base, set these two entries to your function of t.\n",
    "#     return vals\n",
    "\n",
    "# # -------- external forces (optional) ----------\n",
    "# def force_function(t: float) -> jnp.ndarray:\n",
    "#     # No external forces; you can add tip forces here if needed\n",
    "#     return jnp.zeros((n_coords,), dtype=State.pos_arr.dtype)\n",
    "\n",
    "# # -------- masks (boolean) ----------\n",
    "# # We impose node 0 at (0,0). No other fixed DOFs.\n",
    "# fixed_DOFs = jnp.zeros((n_coords,), dtype=bool)\n",
    "\n",
    "# imposed_disp_DOFs = jnp.zeros((n_coords,), dtype=bool)\n",
    "# imposed_disp_DOFs = imposed_disp_DOFs.at[dof_idx(0, 0)].set(True)   # x of node 0\n",
    "# imposed_disp_DOFs = imposed_disp_DOFs.at[dof_idx(0, 1)].set(True)   # y of node 0\n",
    "# imposed_disp_DOFs = imposed_disp_DOFs.at[dof_idx(1, 0)].set(True)   # x of node 0\n",
    "# imposed_disp_DOFs = imposed_disp_DOFs.at[dof_idx(1, 1)].set(True)   # y of node 0\n",
    "\n",
    "# # -------- initial state (positions & velocities) ----------\n",
    "# x0 = State.pos_arr.flatten()                  # start from current geometry\n",
    "# v0 = jnp.zeros_like(x0)                    # start at rest\n",
    "# state_0 = jnp.concatenate([x0, v0], axis=0)\n",
    "\n",
    "# # -------- time grid ----------\n",
    "# dt = 1e-3\n",
    "# t0, t1, n_steps = 0.0, 1600.0, int(1/dt)\n",
    "# time_points = jnp.linspace(t0, t1, n_steps)\n",
    "\n",
    "# # -------- run dynamics ----------\n",
    "# final_pos, pos_in_t, vel_in_t, potential_force_evolution = dynamics.solve_dynamics(\n",
    "#     time_points,\n",
    "#     state_0,\n",
    "#     Variabs,\n",
    "#     Strctr,\n",
    "#     State,\n",
    "#     force_function = None,\n",
    "#     fixed_DOFs = fixed_DOFs,\n",
    "#     imposed_disp_DOFs = imposed_disp_DOFs,\n",
    "#     imposed_disp_values = None\n",
    "# )\n",
    "\n",
    "# # final_pos is shaped like St.pos_arr  (H+2, 2)\n",
    "# # traj_pos is (T, H+2, 2); traj_vel is (T, H+2, 2)\n",
    "# print(\"final_pos[0] (should be ~[0,0]):\", final_pos[0])\n",
    "# print(\"tip pos at end:\", final_pos[-1])\n"
   ]
  },
  {
   "cell_type": "code",
   "execution_count": null,
   "id": "078b1a8c",
   "metadata": {},
   "outputs": [],
   "source": [
    "for i in range(Strctr.edges):\n",
    "    print('edge', i, 'length', Strctr._get_edge_length(final_pos, i))\n",
    "    \n",
    "for i in range(Strctr.hinges):\n",
    "    print('hinge ', i, 'theta', Strctr._get_theta(final_pos, i))    "
   ]
  },
  {
   "cell_type": "code",
   "execution_count": null,
   "id": "7eabe39f",
   "metadata": {},
   "outputs": [],
   "source": []
  }
 ],
 "metadata": {
  "kernelspec": {
   "display_name": "Python 3 (ipykernel)",
   "language": "python",
   "name": "python3"
  },
  "language_info": {
   "codemirror_mode": {
    "name": "ipython",
    "version": 3
   },
   "file_extension": ".py",
   "mimetype": "text/x-python",
   "name": "python",
   "nbconvert_exporter": "python",
   "pygments_lexer": "ipython3",
   "version": "3.9.13"
  }
 },
 "nbformat": 4,
 "nbformat_minor": 5
}
