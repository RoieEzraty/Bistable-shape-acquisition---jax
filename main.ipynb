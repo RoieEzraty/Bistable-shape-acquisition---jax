{
 "cells": [
  {
   "cell_type": "code",
   "execution_count": null,
   "id": "9038e380",
   "metadata": {},
   "outputs": [],
   "source": [
    "import numpy as np\n",
    "import equinox as eqx\n",
    "import jax\n",
    "import jax.numpy as jnp\n",
    "import matplotlib.pyplot as plt\n",
    "import importlib\n",
    "import numpy as np\n",
    "from jax import grad, jit, vmap\n",
    "from jax.experimental.ode import odeint\n",
    "\n",
    "from typing import TYPE_CHECKING, Callable, Union, Optional\n",
    "\n",
    "from VariablesClass import VariablesClass\n",
    "from StructureClass import  StructureClass\n",
    "from StateClass import StateClass\n",
    "from EquilibriumClass import EquilibriumClass\n",
    "\n",
    "import plot_funcs, colors, dynamics, helpers_builders"
   ]
  },
  {
   "cell_type": "code",
   "execution_count": null,
   "id": "a7baf896",
   "metadata": {},
   "outputs": [],
   "source": [
    "## Params\n",
    "\n",
    "H, S = 2, 1  # # Hinges, # Shims per hinge\n",
    "\n",
    "# --- parameters / variables ---\n",
    "k_soft  = jnp.ones((H, S), dtype=jnp.float32) * 1.0  # (Hinges, Shims) spring stiffnesses in soft direction, per shim\n",
    "k_stiff = jnp.ones((H, S), dtype=jnp.float32) * 4.0  # (Hinges, Shims) spring stiffnesses in stiff direction, per shim\n",
    "thetas_ss = jnp.full((H, S), 1/6, dtype=jnp.float32)  # (Hinges, Shims) rest angles per shim\n",
    "thresh = jnp.full((H, S), 1/4, dtype=jnp.float32)  # (Hinges, Shims) rest angles per shim\n",
    "buckle  = jnp.ones((H, S), dtype=jnp.int32)  # initial cubkle state, per shim\n",
    "\n",
    "k_stretch_ratio = 1e3\n",
    "\n",
    "T = 10  # total training set time (not time to reach equilibrium during every step)"
   ]
  },
  {
   "cell_type": "code",
   "execution_count": null,
   "id": "945c277a",
   "metadata": {},
   "outputs": [],
   "source": [
    "import StructureClass\n",
    "importlib.reload(StructureClass)\n",
    "from StructureClass import StructureClass\n",
    "\n",
    "# --- build geometry (all topology stays in StructureClass) ---\n",
    "Strctr = StructureClass(hinges=H, shims=S, L=1)  # your StructureClass from earlier\n",
    "# Strctr.build_dataset"
   ]
  },
  {
   "cell_type": "code",
   "execution_count": null,
   "id": "2e5f051a",
   "metadata": {},
   "outputs": [],
   "source": [
    "import VariablesClass\n",
    "importlib.reload(VariablesClass)\n",
    "from VariablesClass import VariablesClass\n",
    "\n",
    "# --- Initiate variables ---\n",
    "Variabs = VariablesClass(Strctr,\n",
    "                         k_soft=k_soft,\n",
    "                         k_stiff=k_stiff,\n",
    "                         thetas_ss=thetas_ss,           # rest/target angles\n",
    "                         thresh=thresh,                 # threshold to buckle shims\n",
    "                         stretch_scale=k_stretch_ratio,            # k_stretch = 50 * max(k_stiff)\n",
    "                         )"
   ]
  },
  {
   "cell_type": "code",
   "execution_count": null,
   "id": "9c366318",
   "metadata": {},
   "outputs": [],
   "source": [
    "import SupervisorClass\n",
    "importlib.reload(SupervisorClass)\n",
    "from SupervisorClass import SupervisorClass\n",
    "\n",
    "Sprvsr = SupervisorClass(T)\n",
    "Sprvsr.create_dataset(Strctr, sampling='Uniform')\n",
    "print('tip positions=', Sprvsr.tip_loc_in_t)"
   ]
  },
  {
   "cell_type": "code",
   "execution_count": null,
   "id": "4604b103",
   "metadata": {},
   "outputs": [],
   "source": [
    "import StateClass\n",
    "importlib.reload(StateClass)\n",
    "from StateClass import StateClass\n",
    "\n",
    "# --- state (straight chain, unit spacing => rest lengths = 1) ---\n",
    "State = StateClass(Variabs, Strctr, Sprvsr, buckle_arr = buckle)  # buckle defaults to +1"
   ]
  },
  {
   "cell_type": "code",
   "execution_count": null,
   "id": "04be13a2",
   "metadata": {},
   "outputs": [],
   "source": [
    "import EquilibriumClass\n",
    "importlib.reload(EquilibriumClass)\n",
    "from EquilibriumClass import EquilibriumClass\n",
    "\n",
    "importlib.reload(helpers_builders)\n",
    "importlib.reload(plot_funcs)\n",
    "\n",
    "# --- initialize, no tip movement yet\n",
    "Eq = EquilibriumClass(Strctr, State.buckle_arr, State.pos_arr)\n",
    "\n",
    "State._save_data(0, Strctr, State.pos_arr, State.buckle_arr, compute_thetas_if_missing=True)\n",
    "print('pre training configuration')\n",
    "plot_funcs.plot_arm(State.pos_arr , State.buckle_arr, np.rad2deg(State.theta_arr), Strctr.L)"
   ]
  },
  {
   "cell_type": "markdown",
   "id": "79fbe536",
   "metadata": {},
   "source": [
    "## Training"
   ]
  },
  {
   "cell_type": "code",
   "execution_count": null,
   "id": "90fb1185",
   "metadata": {
    "scrolled": false
   },
   "outputs": [],
   "source": [
    "for t in range(Sprvsr.T):\n",
    "    print('t=', t)   \n",
    "    State.position_tip(Sprvsr, t)\n",
    "    final_pos, pos_in_t, vel_in_t, potential_force_evolution = Eq.calculate_state(Variabs, Strctr, tip_loc=State.tip_loc)\n",
    "#     edge_lengths = vmap(lambda e: Strctr._get_edge_length(final_pos, e))(jnp.arange(Strctr.edges))\n",
    "#     print('edge lengths', helpers_builders.numpify(edge_lengths))\n",
    "    State._save_data(t, Strctr, final_pos, State.buckle_arr, compute_thetas_if_missing=True)\n",
    "    \n",
    "    print('theta', np.rad2deg(State.theta_arr))\n",
    "    \n",
    "    plot_funcs.plot_arm(final_pos, State.buckle_arr, np.rad2deg(State.theta_arr), Strctr.L)\n",
    "    \n",
    "    print('pre buckle', State.buckle_arr)\n",
    "    print('energy', Eq.energy(Variabs, Strctr, final_pos)[-1])\n",
    "    \n",
    "    State.buckle(Variabs, Strctr, t)\n",
    "    \n",
    "    # --- state (straight chain, unit spacing => rest lengths = 1) ---\n",
    "    Eq = EquilibriumClass(Strctr, State.buckle_arr, State.pos_arr)\n",
    "    \n",
    "    print('post buckle', State.buckle_arr)\n",
    "    print('energy', Eq.energy(Variabs, Strctr, final_pos)[-1])\n",
    "    \n",
    "    plot_funcs.plot_arm(final_pos, State.buckle_arr, np.rad2deg(State.theta_arr), Strctr.L)\n",
    "    "
   ]
  },
  {
   "cell_type": "code",
   "execution_count": null,
   "id": "ecb572a7",
   "metadata": {},
   "outputs": [],
   "source": [
    "State.pos_arr[Strctr.edges_arr[Strctr.hinges_arr[1]]]\n",
    "State.pos_arr"
   ]
  },
  {
   "cell_type": "code",
   "execution_count": null,
   "id": "cfbc3174",
   "metadata": {},
   "outputs": [],
   "source": [
    "print('edge lengths', Strctr.all_edge_lengths(final_pos))\n",
    "print('thetas ', np.rad2deg(Strctr.all_hinge_angles(final_pos)))\n",
    "print('buckle ', State.buckle_arr)\n",
    "print('pos_arr', final_pos)\n",
    "print('buckl', buckle)\n",
    "helpers_builders.numpify(helpers_builders._initiate_buckle(Strctr.hinges, Strctr.shims))"
   ]
  },
  {
   "cell_type": "code",
   "execution_count": null,
   "id": "7cd1ea0e",
   "metadata": {},
   "outputs": [],
   "source": [
    "from IPython.display import HTML\n",
    "importlib.reload(plot_funcs)\n",
    "\n",
    "plot_funcs.plot_arm(final_pos, State.buckle, np.rad2deg(Strctr.all_hinge_angles(final_pos)), Strctr.L)\n",
    "\n",
    "# fig, anim = plot_funcs.animate_arm(pos_in_t, Strctr.L, interval_ms=20, save_path=None, fps=1, stride=12)\n",
    "\n",
    "# # Show inline animation (uses JavaScript/HTML5)\n",
    "# HTML(anim.to_jshtml())"
   ]
  },
  {
   "cell_type": "code",
   "execution_count": null,
   "id": "ea7e7a38",
   "metadata": {},
   "outputs": [],
   "source": []
  }
 ],
 "metadata": {
  "kernelspec": {
   "display_name": "Python 3 (ipykernel)",
   "language": "python",
   "name": "python3"
  },
  "language_info": {
   "codemirror_mode": {
    "name": "ipython",
    "version": 3
   },
   "file_extension": ".py",
   "mimetype": "text/x-python",
   "name": "python",
   "nbconvert_exporter": "python",
   "pygments_lexer": "ipython3",
   "version": "3.9.13"
  }
 },
 "nbformat": 4,
 "nbformat_minor": 5
}
