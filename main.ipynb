{
 "cells": [
  {
   "cell_type": "code",
   "execution_count": null,
   "id": "9038e380",
   "metadata": {},
   "outputs": [],
   "source": [
    "import numpy as np\n",
    "import equinox as eqx\n",
    "import jax\n",
    "import jax.numpy as jnp\n",
    "import matplotlib.pyplot as plt\n",
    "import importlib\n",
    "import numpy as np\n",
    "from jax import grad, jit, vmap\n",
    "from jax.experimental.ode import odeint\n",
    "from IPython.display import HTML\n",
    "\n",
    "from typing import TYPE_CHECKING, Callable, Union, Optional\n",
    "\n",
    "from VariablesClass import VariablesClass\n",
    "from StructureClass import  StructureClass\n",
    "from StateClass import StateClass\n",
    "from EquilibriumClass import EquilibriumClass\n",
    "\n",
    "import plot_funcs, colors, dynamics, helpers_builders, learning_funcs"
   ]
  },
  {
   "cell_type": "code",
   "execution_count": null,
   "id": "a7baf896",
   "metadata": {},
   "outputs": [],
   "source": [
    "## Params\n",
    "\n",
    "H, S = 5, 1  # # Hinges, # Shims per hinge\n",
    "k_type = 'Experimental'\n",
    "\n",
    "Nin = 3  # tip position in (x, y) and its angle\n",
    "Nout = 3  # Fx, Fy, torque, all on tip\n",
    "\n",
    "control_tip_angle = True\n",
    "\n",
    "update_scheme = 'one_to_one'\n",
    "\n",
    "# dataset_sampling = 'Uniform'  # random uniform vals for x, y, angle\n",
    "dataset_sampling = 'Flat'  # flat piece, single measurement\n",
    "\n",
    "dt = 1e-3\n",
    "t0, t1, n_steps = 0.0, 1600.0, int(1/dt)\n",
    "time_points = jnp.linspace(t0, t1, n_steps)\n",
    "\n",
    "k_soft_uniform = 1.0\n",
    "k_stiff_uniform = 4.0\n",
    "thetas_ss_uniform = 1/6\n",
    "thresh_uniform = 1/4\n",
    "\n",
    "buckle  = jnp.ones((H, S), dtype=jnp.int32)  # initial cubkle state, per shim\n",
    "# rows = jnp.array([0, 2])\n",
    "# cols = jnp.array([0, 0])     # for example, first shim of each row\n",
    "# buckle = buckle.at[rows, cols].set(-1)\n",
    "\n",
    "k_stretch_ratio = 1e2\n",
    "\n",
    "T_training = 4  # total training set time (not time to reach equilibrium during every step)\n",
    "\n",
    "alpha = 0.025  # learning rate\n",
    "\n",
    "# desired_buckle_type = 'random'\n",
    "# desired_buckle_rand_key = 169\n",
    "desired_buckle_type = 'opposite'\n",
    "\n",
    "# for equilibrium state calculation\n",
    "n_steps = int(2e4)\n",
    "T_eq= 1400.0  # time for equilibrium claculation\n",
    "print('dt=', float(T_eq/n_steps))\n",
    "damping = 5.0\n",
    "mass = 4.0"
   ]
  },
  {
   "cell_type": "code",
   "execution_count": null,
   "id": "8903f6d1",
   "metadata": {},
   "outputs": [],
   "source": [
    "# --- parameters / variables ---\n",
    "if k_type == 'Numerical':\n",
    "    k_soft  = jnp.ones((H, S), dtype=jnp.float32) * k_soft_uniform  # (Hinges, Shims) stiff. in soft direction, per shim\n",
    "    k_stiff = jnp.ones((H, S), dtype=jnp.float32) * k_stiff_uniform  # (Hinges, Shims) stiff. in stiff direction, per shim\n",
    "    thetas_ss = jnp.full((H, S), thetas_ss_uniform, dtype=jnp.float32)  # (Hinges, Shims) rest angles per shim\n",
    "    thresh = jnp.full((H, S), thresh_uniform, dtype=jnp.float32)  # (Hinges, Shims) rest angles per shim\n",
    "    file_name = None\n",
    "else:\n",
    "    k_soft  = None\n",
    "    k_stiff = None\n",
    "    thetas_ss = jnp.full((H, S), 1.03312, dtype=jnp.float32)  # (Hinges, Shims) rest angles per shim\n",
    "    thresh = jnp.full((H, S), 1.96257, dtype=jnp.float32)  # (Hinges, Shims) rest angles per shim\n",
    "    file_name = 'Roee_offset3mm_dl75.txt'\n",
    "\n",
    "if desired_buckle_type == 'random':\n",
    "    key = jax.random.PRNGKey(desired_buckle_rand_key)   # seed\n",
    "    desired_buckle = jax.random.randint(key, (H, S), minval=-1, maxval=2)  # note: maxval is exclusive\n",
    "    desired_buckle = desired_buckle.at[desired_buckle==0].set(-1)\n",
    "elif desired_buckle_type == 'opposite':\n",
    "    desired_buckle = -buckle"
   ]
  },
  {
   "cell_type": "code",
   "execution_count": null,
   "id": "945c277a",
   "metadata": {},
   "outputs": [],
   "source": [
    "import StructureClass\n",
    "importlib.reload(StructureClass)\n",
    "from StructureClass import StructureClass\n",
    "\n",
    "# --- build geometry (all topology stays in StructureClass) ---\n",
    "Strctr = StructureClass(hinges=H, shims=S, L=1)  # your StructureClass from earlier\n",
    "if update_scheme == 'BEASTAL':\n",
    "    Strctr._build_learning_parameters(Nin, Nout)"
   ]
  },
  {
   "cell_type": "code",
   "execution_count": null,
   "id": "2e5f051a",
   "metadata": {},
   "outputs": [],
   "source": [
    "import VariablesClass\n",
    "importlib.reload(VariablesClass)\n",
    "from VariablesClass import VariablesClass\n",
    "\n",
    "# --- Initiate variables ---\n",
    "Variabs = VariablesClass(Strctr,\n",
    "                         k_type = k_type,\n",
    "                         k_soft=k_soft,\n",
    "                         k_stiff=k_stiff,\n",
    "                         thetas_ss=thetas_ss,           # rest/target angles\n",
    "                         thresh=thresh,                 # threshold to buckle shims\n",
    "                         stretch_scale=k_stretch_ratio,            # k_stretch = 50 * max(k_stiff)\n",
    "                         file_name = file_name\n",
    "                         )"
   ]
  },
  {
   "cell_type": "code",
   "execution_count": null,
   "id": "0ed845f8",
   "metadata": {},
   "outputs": [],
   "source": [
    "import SupervisorClass\n",
    "importlib.reload(SupervisorClass)\n",
    "from SupervisorClass import SupervisorClass\n",
    "\n",
    "Sprvsr = SupervisorClass(Strctr, alpha, T_training, desired_buckle, control_tip_angle=control_tip_angle,\n",
    "                         update_scheme=update_scheme)\n",
    "Sprvsr.create_dataset(Strctr, sampling=dataset_sampling)\n",
    "print('tip positions=', Sprvsr.tip_pos_in_t)\n",
    "print('desired buckle=', Sprvsr.desired_buckle_arr)"
   ]
  },
  {
   "cell_type": "markdown",
   "id": "8b210484",
   "metadata": {},
   "source": [
    "## Desired values"
   ]
  },
  {
   "cell_type": "code",
   "execution_count": null,
   "id": "4604b103",
   "metadata": {},
   "outputs": [],
   "source": [
    "import StateClass\n",
    "importlib.reload(StateClass)\n",
    "from StateClass import StateClass\n",
    "\n",
    "# --- state (straight chain, unit spacing => rest lengths = 1) ---\n",
    "State_meas = StateClass(Variabs, Strctr, Sprvsr, buckle_arr = buckle)  # buckle defaults to +1"
   ]
  },
  {
   "cell_type": "markdown",
   "id": "b8b53d5a",
   "metadata": {},
   "source": [
    "## One shot - choose tip position"
   ]
  },
  {
   "cell_type": "code",
   "execution_count": null,
   "id": "809f4e1c",
   "metadata": {},
   "outputs": [],
   "source": [
    "# import EquilibriumClass\n",
    "# importlib.reload(EquilibriumClass)\n",
    "# from EquilibriumClass import EquilibriumClass\n",
    "\n",
    "# a=0.15\n",
    "# b=1/11\n",
    "# # tip_pos = None\n",
    "# tip_pos = np.array([Strctr.edges*Strctr.L*(1-a), Strctr.L*(a)])\n",
    "\n",
    "# tip_angle = np.pi*b\n",
    "\n",
    "# # --- state (straight chain, unit spacing => rest lengths = 1) ---\n",
    "# State = StateClass(Variabs, Strctr, Sprvsr, buckle_arr = buckle)  # buckle defaults to +1\n",
    "# print('State_notip buckle', State.buckle_arr)\n",
    "\n",
    "# # --- initialize, no tip movement yet\n",
    "# Eq = EquilibriumClass(Strctr, T_eq, n_steps, damping, mass, buckle_arr=buckle)\n",
    "# final_pos, pos_in_t, vel_in_t, potential_force_in_t = Eq.calculate_state(Variabs, Strctr, tip_pos=tip_pos,\n",
    "#                                                                          tip_angle=tip_angle)\n",
    "# State._save_data(0, Strctr, final_pos, State.buckle_arr, potential_force_in_t, compute_thetas_if_missing=True)\n",
    "# print('State_notip buckle', State.buckle_arr)\n",
    "# plot_funcs.plot_arm(State.pos_arr , State.buckle_arr, np.rad2deg(State.theta_arr), Strctr.L,\n",
    "#                     modality=\"measurement\")"
   ]
  },
  {
   "cell_type": "code",
   "execution_count": null,
   "id": "ac63ecd4",
   "metadata": {},
   "outputs": [],
   "source": [
    "# Energy_vec = np.zeros((3, n_steps))\n",
    "# for t in range(n_steps):\n",
    "#     Energy_vec[:, t] = Eq.energy(Variabs, Strctr, pos_in_t[t])\n",
    "# plt.plot(Energy_vec.T)\n",
    "\n",
    "# plt.plot(potential_force_in_t[2500:,:], '.')\n",
    "# plt.show()"
   ]
  },
  {
   "cell_type": "code",
   "execution_count": null,
   "id": "23738fd8",
   "metadata": {},
   "outputs": [],
   "source": [
    "# importlib.reload(plot_funcs)\n",
    "\n",
    "# fig, anim = plot_funcs.animate_arm(pos_in_t, Strctr.L, interval_ms=100, save_path=f\"arm_animation_t{0}.gif\", fps=2,\n",
    "#                                    frames=30)\n",
    "\n",
    "# # Show inline animation (uses JavaScript/HTML5)\n",
    "# HTML(anim.to_jshtml())"
   ]
  },
  {
   "cell_type": "markdown",
   "id": "762b6b7e",
   "metadata": {},
   "source": [
    "## Desired values contd"
   ]
  },
  {
   "cell_type": "code",
   "execution_count": null,
   "id": "29071447",
   "metadata": {},
   "outputs": [],
   "source": [
    "for i, tip_pos in enumerate(Sprvsr.tip_pos_in_t):    \n",
    "    \n",
    "    if i == 0:\n",
    "        Eq_des = EquilibriumClass(Strctr, T_eq, n_steps, damping, mass, buckle_arr=Sprvsr.desired_buckle_arr)\n",
    "    else:\n",
    "        Eq_des = EquilibriumClass(Strctr, T_eq, n_steps, damping, mass, buckle_arr=Sprvsr.desired_buckle_arr,\n",
    "                                  pos_arr=final_pos)\n",
    "    final_pos, pos_in_t, vel_in_t, potential_force_in_t = Eq_des.calculate_state(Variabs, Strctr, tip_pos=tip_pos,\n",
    "                                                                                      tip_angle=Sprvsr.tip_angle_in_t[i])\n",
    "    \n",
    "    Sprvsr.set_desired(final_pos, potential_force_in_t[-1][-2], potential_force_in_t[-1][-1], i)\n",
    "\n",
    "State_meas._save_data(0, Strctr, State_meas.pos_arr, State_meas.buckle_arr, compute_thetas_if_missing=True)\n",
    "print('pre training configuration')\n",
    "plot_funcs.plot_arm(State_meas.pos_arr , State_meas.buckle_arr, np.rad2deg(State_meas.theta_arr),Strctr.L,\n",
    "                    modality='measurement')"
   ]
  },
  {
   "cell_type": "markdown",
   "id": "90df8941",
   "metadata": {},
   "source": [
    "## Training"
   ]
  },
  {
   "cell_type": "code",
   "execution_count": null,
   "id": "04be13a2",
   "metadata": {},
   "outputs": [],
   "source": [
    "import StateClass\n",
    "importlib.reload(StateClass)\n",
    "from StateClass import StateClass\n",
    "importlib.reload(helpers_builders)\n",
    "\n",
    "# --- state (straight chain, unit spacing => rest lengths = 1) ---\n",
    "State_meas = StateClass(Variabs, Strctr, Sprvsr, buckle_arr = buckle)  # buckle defaults to +1\n",
    "State_update = StateClass(Variabs, Strctr, Sprvsr, buckle_arr = buckle)  # buckle defaults to +1\n",
    "\n",
    "# --- initialize, no tip movement yet\n",
    "Eq = EquilibriumClass(Strctr, T_eq, n_steps, damping, mass, buckle_arr=State_meas.buckle_arr, pos_arr=State_meas.pos_arr)\n",
    "\n",
    "State_meas._save_data(0, Strctr, State_meas.pos_arr, State_meas.buckle_arr, compute_thetas_if_missing=True)\n",
    "print('pre training configuration')\n",
    "plot_funcs.plot_arm(State_meas.pos_arr , State_meas.buckle_arr, np.rad2deg(State_meas.theta_arr), Strctr.L,\n",
    "                    modality=\"measurement\")"
   ]
  },
  {
   "cell_type": "code",
   "execution_count": null,
   "id": "59327088",
   "metadata": {},
   "outputs": [],
   "source": [
    "import SupervisorClass\n",
    "importlib.reload(SupervisorClass)\n",
    "from SupervisorClass import SupervisorClass"
   ]
  },
  {
   "cell_type": "code",
   "execution_count": null,
   "id": "90fb1185",
   "metadata": {
    "scrolled": true
   },
   "outputs": [],
   "source": [
    "importlib.reload(plot_funcs)\n",
    "\n",
    "for t in range(Sprvsr.T):\n",
    "    print('t=', t)   \n",
    "    \n",
    "    ## MEASUREMENT\n",
    "    \n",
    "    # --- position tip ---\n",
    "    State_meas.position_tip(Sprvsr, t)\n",
    "    \n",
    "    # --- equilibrium ---\n",
    "    final_pos, pos_in_t, vel_in_t, potential_force_in_t = Eq.calculate_state(Variabs, Strctr, tip_pos=State_meas.tip_pos,\n",
    "                                                                             tip_angle=State_meas.tip_angle)\n",
    "#     edge_lengths = vmap(lambda e: Strctr._get_edge_length(final_pos, e))(jnp.arange(Strctr.edges))\n",
    "#     print('edge lengths', helpers_builders.numpify(edge_lengths))\n",
    "\n",
    "    # --- save sizes and plot ---\n",
    "    State_meas._save_data(t, Strctr, final_pos, State_meas.buckle_arr, potential_force_in_t, compute_thetas_if_missing=True)\n",
    "    plot_funcs.plot_arm(final_pos, State_meas.buckle_arr, np.rad2deg(State_meas.theta_arr), Strctr.L,\n",
    "                        modality = \"measurement\")\n",
    "    print('Forces', potential_force_in_t[-1])\n",
    "    print('Fx on tip, measurement', State_meas.Fx)\n",
    "    print('Fy on tip, measurement', State_meas.Fy)\n",
    "    plt.plot(potential_force_in_t[-1,:], '.')\n",
    "    plt.show()\n",
    "    fig, anim = plot_funcs.animate_arm(pos_in_t, Strctr.L, interval_ms=20, save_path=f\"arm_animation_t{t}.gif\", fps=4,\n",
    "                                   frames=20)\n",
    "\n",
    "    # Show inline animation (uses JavaScript/HTML5)\n",
    "    HTML(anim.to_jshtml())\n",
    "    print('torque on tip, measurement', State_meas.tip_torque)\n",
    "    \n",
    "    fig, anim = plot_funcs.animate_arm(pos_in_t, Strctr.L, interval_ms=20, save_path=f\"arm_animation_t{t}.gif\", fps=4,\n",
    "                                       frames=20)\n",
    "    \n",
    "    # --- loss ---\n",
    "    Sprvsr.calc_loss(State_meas.Fx, State_meas.Fy, t)\n",
    "    print('desired Fx', Sprvsr.desired_Fx_in_t[t])\n",
    "    print('desired Fy', Sprvsr.desired_Fy_in_t[t])\n",
    "    print('loss', Sprvsr.loss)\n",
    "    \n",
    "    ## UPDATE\n",
    "    \n",
    "    if t == 0:\n",
    "        Sprvsr.calc_update_tip(t, Strctr, Variabs, State_meas,\n",
    "                               current_tip_angle = State_meas.tip_angle,\n",
    "                               prev_tip_update_pos = np.array([Strctr.L*Strctr.edges, 0.1]),\n",
    "                               prev_tip_update_angle = 0.0)\n",
    "    else:\n",
    "        Sprvsr.calc_update_tip(t, Strctr, Variabs, State_meas,\n",
    "                               current_tip_angle = State_meas.tip_angle)\n",
    "    print('update_tip', Sprvsr.tip_pos_update_in_t)\n",
    "    print('update angle', Sprvsr.tip_angle_update_in_t)\n",
    "    \n",
    "    \n",
    "    # --- position tip ---\n",
    "    State_update.position_tip(Sprvsr, t, \"update\")\n",
    "    \n",
    "    # --- equilibrium ---\n",
    "    final_pos, pos_in_t, vel_in_t, potential_force_in_t = Eq.calculate_state(Variabs, Strctr, tip_pos=State_update.tip_pos,\n",
    "                                                                             tip_angle=State_update.tip_angle)\n",
    "\n",
    "    # --- save sizes and plot ---\n",
    "    State_update._save_data(t, Strctr, final_pos, State_update.buckle_arr, potential_force_in_t,\n",
    "                            compute_thetas_if_missing=True)\n",
    "    plot_funcs.plot_arm(final_pos, State_update.buckle_arr, np.rad2deg(State_update.theta_arr), Strctr.L, modality = \"update\")\n",
    "    print('pre buckle', State_update.buckle_arr)\n",
    "    # print('energy', Eq.energy(Variabs, Strctr, final_pos)[-1])\n",
    "    \n",
    "    # --- shims buckle ---\n",
    "    State_update.buckle(Variabs, Strctr, t, State_measured = State_meas)\n",
    "    \n",
    "    Eq = EquilibriumClass(Strctr, T_eq, n_steps, damping, mass, buckle_arr=helpers_builders.jaxify(State_update.buckle_arr),\n",
    "                          pos_arr=helpers_builders.jaxify(State_update.pos_arr))\n",
    "    print('post buckle', State_update.buckle_arr)\n",
    "    # print('post buckle update', State_update.buckle_arr)\n",
    "    # print('energy', Eq.energy(Variabs, Strctr, final_pos)[-1])\n",
    "    plot_funcs.plot_arm(final_pos, State_update.buckle_arr, np.rad2deg(State_update.theta_arr),\n",
    "                        Strctr.L, modality = \"update\")   "
   ]
  },
  {
   "cell_type": "code",
   "execution_count": null,
   "id": "a235c910",
   "metadata": {},
   "outputs": [],
   "source": [
    "# U = np.array([[1, 0, -1, 0, 0],\n",
    "#                [1, 0, 0, -1, 0],\n",
    "#                [1, 0, 0, 0, -1],\n",
    "#                [0, 1, -1, 0, 0],\n",
    "#                [0 ,1, 0, -1, 0],\n",
    "#                [0, 1, 0, 0, -1]])\n",
    "# U_dagger = np.linalg.pinv(U)\n",
    "# U_dagger.T"
   ]
  },
  {
   "cell_type": "code",
   "execution_count": null,
   "id": "d7df3ae8",
   "metadata": {},
   "outputs": [],
   "source": [
    "plt.plot(np.sum(np.abs(Sprvsr.loss_in_t**2), axis=1))\n",
    "plt.xlabel('t')\n",
    "plt.ylabel('Loss')"
   ]
  },
  {
   "cell_type": "code",
   "execution_count": null,
   "id": "4e86ce9a",
   "metadata": {},
   "outputs": [],
   "source": [
    "plt.plot(State_update.buckle_in_t[0,0,:])\n",
    "plt.plot(State_update.buckle_in_t[1,0,:])\n",
    "plt.plot(State_update.buckle_in_t[2,0,:])\n",
    "plt.plot(State_update.buckle_in_t[3,0,:])\n",
    "plt.plot(State_update.buckle_in_t[4,0,:])\n",
    "plt.xlabel('t')\n",
    "plt.ylabel('buckle')\n",
    "plt.legend(['hinge 1', 'hinge 2', 'hinge 3', 'hinge 4', 'hinge 5'])"
   ]
  },
  {
   "cell_type": "code",
   "execution_count": null,
   "id": "ba9d0f56",
   "metadata": {},
   "outputs": [],
   "source": [
    "fig, anim = plot_funcs.animate_arm(pos_in_t, Strctr.L, interval_ms=20, save_path=f\"arm_animation_t{t}.gif\", fps=4,\n",
    "                                   frames=20)\n",
    "\n",
    "# Show inline animation (uses JavaScript/HTML5)\n",
    "HTML(anim.to_jshtml())"
   ]
  },
  {
   "cell_type": "code",
   "execution_count": null,
   "id": "f3dbd54d",
   "metadata": {},
   "outputs": [],
   "source": []
  }
 ],
 "metadata": {
  "kernelspec": {
   "display_name": "Python 3 (ipykernel)",
   "language": "python",
   "name": "python3"
  },
  "language_info": {
   "codemirror_mode": {
    "name": "ipython",
    "version": 3
   },
   "file_extension": ".py",
   "mimetype": "text/x-python",
   "name": "python",
   "nbconvert_exporter": "python",
   "pygments_lexer": "ipython3",
   "version": "3.9.13"
  }
 },
 "nbformat": 4,
 "nbformat_minor": 5
}
