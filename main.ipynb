{
 "cells": [
  {
   "cell_type": "code",
   "execution_count": null,
   "id": "9038e380",
   "metadata": {},
   "outputs": [],
   "source": [
    "import equinox as eqx\n",
    "import jax\n",
    "import jax.numpy as jnp\n",
    "import matplotlib.pyplot as plt\n",
    "import importlib\n",
    "import numpy as np\n",
    "from jax import grad, jit, vmap\n",
    "from jax.experimental.ode import odeint\n",
    "\n",
    "from typing import TYPE_CHECKING, Callable, Union, Optional\n",
    "\n",
    "from VariablesClass import VariablesClass\n",
    "from StructureClass import  StructureClass\n",
    "from StateClass import StateClass\n",
    "from EquilibriumClass import EquilibriumClass\n",
    "\n",
    "import plot_funcs, colors, dynamics, helpers_builders"
   ]
  },
  {
   "cell_type": "code",
   "execution_count": null,
   "id": "0330632b",
   "metadata": {},
   "outputs": [],
   "source": [
    "## Params\n",
    "\n",
    "H, S = 5, 1  # # Hinges, # Shims per hinge\n",
    "\n",
    "# --- parameters / variables ---\n",
    "k_soft  = jnp.ones((H, S), dtype=jnp.float32) * 1.0  # (Hinges, Shims) spring stiffnesses in soft direction, per shim\n",
    "k_stiff = jnp.ones((H, S), dtype=jnp.float32) * 4.0  # (Hinges, Shims) spring stiffnesses in stiff direction, per shim\n",
    "thetas_ss = jnp.full((H, S), -1/8, dtype=jnp.float32)  # (Hinges, Shims) rest angles per shim\n",
    "buckle  = jnp.ones((H, S), dtype=jnp.int32)  # initial cubkle state, per shim\n",
    "\n",
    "T = 2  # total training set time (not time to reach equilibrium during every step)"
   ]
  },
  {
   "cell_type": "code",
   "execution_count": null,
   "id": "895e409b",
   "metadata": {},
   "outputs": [],
   "source": [
    "import StructureClass\n",
    "importlib.reload(StructureClass)\n",
    "from StructureClass import StructureClass\n",
    "\n",
    "# --- build geometry (all topology stays in StructureClass) ---\n",
    "Strctr = StructureClass(hinges=H, shims=S, L=1)  # your StructureClass from earlier"
   ]
  },
  {
   "cell_type": "code",
   "execution_count": null,
   "id": "2e5f051a",
   "metadata": {},
   "outputs": [],
   "source": [
    "import VariablesClass\n",
    "importlib.reload(VariablesClass)\n",
    "from VariablesClass import VariablesClass\n",
    "\n",
    "# --- Initiate variables ---\n",
    "Variabs = VariablesClass(Strctr,\n",
    "                         T,\n",
    "                         k_soft=k_soft,\n",
    "                         k_stiff=k_stiff,\n",
    "                         thetas_ss=thetas_ss,           # rest/target angles\n",
    "                         stretch_scale=10.0,              # k_stretch = 50 * max(k_stiff)\n",
    "                         )"
   ]
  },
  {
   "cell_type": "code",
   "execution_count": null,
   "id": "f61aa077",
   "metadata": {},
   "outputs": [],
   "source": [
    "import StateClass\n",
    "importlib.reload(StateClass)\n",
    "from StateClass import StateClass\n",
    "\n",
    "# --- state (straight chain, unit spacing => rest lengths = 1) ---\n",
    "State = StateClass(Variabs, Strctr)  # buckle defaults to +1"
   ]
  },
  {
   "cell_type": "code",
   "execution_count": null,
   "id": "e81a1dfc",
   "metadata": {},
   "outputs": [],
   "source": [
    "import EquilibriumClass\n",
    "importlib.reload(EquilibriumClass)\n",
    "from EquilibriumClass import EquilibriumClass\n",
    "\n",
    "# --- state (straight chain, unit spacing => rest lengths = 1) ---\n",
    "Eq = EquilibriumClass(Strctr, State.buckle)  # buckle defaults to +1"
   ]
  },
  {
   "cell_type": "code",
   "execution_count": null,
   "id": "c5df1c26",
   "metadata": {},
   "outputs": [],
   "source": [
    "importlib.reload(dynamics)\n",
    "importlib.reload(helpers_builders)\n",
    "\n",
    "for t in range(Variabs.T):\n",
    "    final_pos, pos_in_t, vel_in_t, potential_force_evolution = Eq.calculate_state(Variabs, Strctr)\n",
    "    buckle = State.buckle\n",
    "    State._save_data(t, Strctr, final_pos, buckle, compute_thetas_if_missing=True)"
   ]
  },
  {
   "cell_type": "code",
   "execution_count": null,
   "id": "36dc45dd",
   "metadata": {},
   "outputs": [],
   "source": [
    "from IPython.display import HTML\n",
    "importlib.reload(plot_funcs)\n",
    "\n",
    "plot_funcs.plot_arm(final_pos, Strctr.L)\n",
    "\n",
    "fig, anim = plot_funcs.animate_arm(pos_in_t, Strctr.L, interval_ms=20, save_path=None, fps=1, stride=12)\n",
    "\n",
    "# Show inline animation (uses JavaScript/HTML5)\n",
    "HTML(anim.to_jshtml())"
   ]
  },
  {
   "cell_type": "code",
   "execution_count": null,
   "id": "52933489",
   "metadata": {},
   "outputs": [],
   "source": []
  }
 ],
 "metadata": {
  "kernelspec": {
   "display_name": "Python 3 (ipykernel)",
   "language": "python",
   "name": "python3"
  },
  "language_info": {
   "codemirror_mode": {
    "name": "ipython",
    "version": 3
   },
   "file_extension": ".py",
   "mimetype": "text/x-python",
   "name": "python",
   "nbconvert_exporter": "python",
   "pygments_lexer": "ipython3",
   "version": "3.9.13"
  }
 },
 "nbformat": 4,
 "nbformat_minor": 5
}
